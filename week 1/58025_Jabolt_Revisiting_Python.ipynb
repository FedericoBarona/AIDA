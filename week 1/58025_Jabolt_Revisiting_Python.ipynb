{
  "nbformat": 4,
  "nbformat_minor": 0,
  "metadata": {
    "colab": {
      "name": "58025_Jabolt_Revisiting Python.ipynb",
      "provenance": [],
      "authorship_tag": "ABX9TyNDxswmwL85xJ1B3n3m67lP",
      "include_colab_link": true
    },
    "kernelspec": {
      "name": "python3",
      "display_name": "Python 3"
    }
  },
  "cells": [
    {
      "cell_type": "markdown",
      "metadata": {
        "id": "view-in-github",
        "colab_type": "text"
      },
      "source": [
        "<a href=\"https://colab.research.google.com/github/FedericoBarona/AIDA/blob/main/week%201/58025_Jabolt_Revisiting_Python.ipynb\" target=\"_parent\"><img src=\"https://colab.research.google.com/assets/colab-badge.svg\" alt=\"Open In Colab\"/></a>"
      ]
    },
    {
      "cell_type": "code",
      "metadata": {
        "colab": {
          "base_uri": "https://localhost:8080/"
        },
        "id": "1SSJP8iqBK8I",
        "outputId": "01bb9131-4ea2-4ab7-d51b-0b55bad665f2"
      },
      "source": [
        "print (\"GRADE CALCULATOR\\n\")\r\n",
        "name = input(\"Student Name: \")\r\n",
        "courseName = input(\"Course: \")\r\n",
        "prelimGrade = float(input(\"\\nPrelim Grade: \"))\r\n",
        "midtermGrade = float(input(\"Midterm Grade: \"))\r\n",
        "finalGrade = float(input(\"Final Grade: \"))\r\n",
        "semGrade = (prelimGrade*.30) + (midtermGrade*.30) + (finalGrade*.40)\r\n",
        "#print(\"Hello {}, your semestral grade is {:.2f}\".format(name, semGrade)) \r\n",
        "if (semGrade > 70):\r\n",
        "  print(\"\\n\\U0001F600 \" \"Hello {}, your semestral grade is {:.2f} \\U0001F600\".format(name, semGrade))\r\n",
        "if (semGrade == 70):\r\n",
        "  print(\"\\n\\U0001F923 \" \"Hello {}, your semestral grade is {:.2f} \\U0001F923\".format(name, semGrade))\r\n",
        "if (semGrade < 70):\r\n",
        "  print(\"\\n\\U0001F61E \" \"Hello {}, your semestral grade is {:.2f} \\U0001F61E\".format(name, semGrade))"
      ],
      "execution_count": 6,
      "outputs": [
        {
          "output_type": "stream",
          "text": [
            "GRADE CALCULATOR\n",
            "\n",
            "Student Name: Federico III A. Barona\n",
            "Course: BS CPE\n",
            "\n",
            "Prelim Grade: 81.932\n",
            "Midterm Grade: 92.123\n",
            "Final Grade: 89.637\n",
            "\n",
            "😀 Hello Federico III A. Barona, your semestral grade is 88.07 😀\n"
          ],
          "name": "stdout"
        }
      ]
    }
  ]
}