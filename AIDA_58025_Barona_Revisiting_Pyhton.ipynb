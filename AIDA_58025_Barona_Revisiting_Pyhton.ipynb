{
  "nbformat": 4,
  "nbformat_minor": 0,
  "metadata": {
    "colab": {
      "name": "AIDA 58025 Barona - Revisiting Pyhton.ipynb",
      "provenance": [],
      "authorship_tag": "ABX9TyOtOvsphTeI5fnVTYO0ASPN",
      "include_colab_link": true
    },
    "kernelspec": {
      "name": "python3",
      "display_name": "Python 3"
    }
  },
  "cells": [
    {
      "cell_type": "markdown",
      "metadata": {
        "id": "view-in-github",
        "colab_type": "text"
      },
      "source": [
        "<a href=\"https://colab.research.google.com/github/FedericoBarona/AIDA/blob/main/AIDA_58025_Barona_Revisiting_Pyhton.ipynb\" target=\"_parent\"><img src=\"https://colab.research.google.com/assets/colab-badge.svg\" alt=\"Open In Colab\"/></a>"
      ]
    },
    {
      "cell_type": "markdown",
      "metadata": {
        "id": "w9Ag3kdy7doj"
      },
      "source": [
        "#Revisiting Python\r\n",
        " © F Barona (2021) <br>\r\n",
        " This notebook discusses the basic and intermidiate Pyhton coding principles and coding design\r\n"
      ]
    },
    {
      "cell_type": "markdown",
      "metadata": {
        "id": "MXZE-Hun8A6A"
      },
      "source": [
        "## Part 1: Programming logic and Design \r\n",
        "\r\n",
        "In this section, we will revisit Programming Logic and Design using the Pyhton Language.\r\n",
        "\r\n",
        "![image](https://www.python.org/static/community_logos/python-logo-inkscape.svg) \r\n",
        "\r\n",
        "Discussions about Python"
      ]
    },
    {
      "cell_type": "markdown",
      "metadata": {
        "id": "X-51zu9_8-Gn"
      },
      "source": [
        "1.1 Varible and Printing Values"
      ]
    },
    {
      "cell_type": "code",
      "metadata": {
        "colab": {
          "base_uri": "https://localhost:8080/"
        },
        "id": "8aGb24_R5yPU",
        "outputId": "608562d1-2d40-4d8a-bfe4-3d9eebaa3e68"
      },
      "source": [
        "# This is a C++ line of code\r\n",
        "# int x = 2;\r\n",
        "# cout<<x;\r\n",
        "# Now this is a Python line of code\r\n",
        "x = 2\r\n",
        "# print(x)\r\n",
        "# print(type(x))\r\n",
        "# print(\"The data type of x is \",type(x), \"and its value is \",x.\".\")\r\n",
        "# print(f\"The data type of x is \",{type(x)}, \"and its value is \",{x}.\".\")\r\n",
        "print(\"The data type of x is {} and its value is {}.\".format(type(x),x))"
      ],
      "execution_count": 18,
      "outputs": [
        {
          "output_type": "stream",
          "text": [
            "The data type of x is <class 'int'> and its value is 2.\n"
          ],
          "name": "stdout"
        }
      ]
    },
    {
      "cell_type": "code",
      "metadata": {
        "colab": {
          "base_uri": "https://localhost:8080/"
        },
        "id": "juZGoM1bAr-3",
        "outputId": "f954423b-5232-48c4-e657-b9ba7980b4bc"
      },
      "source": [
        "print(\"Hello world\")"
      ],
      "execution_count": 19,
      "outputs": [
        {
          "output_type": "stream",
          "text": [
            "Hello world\n"
          ],
          "name": "stdout"
        }
      ]
    },
    {
      "cell_type": "markdown",
      "metadata": {
        "id": "NMX2FlDq8IXv"
      },
      "source": [
        "## Part 2: Object Oriented Programming"
      ]
    },
    {
      "cell_type": "code",
      "metadata": {
        "id": "zxFW3H_u8NcW"
      },
      "source": [
        ""
      ],
      "execution_count": null,
      "outputs": []
    },
    {
      "cell_type": "markdown",
      "metadata": {
        "id": "HCRlh9Q68N_R"
      },
      "source": [
        "## PArt 3: Data Structures and Algorithms"
      ]
    },
    {
      "cell_type": "code",
      "metadata": {
        "id": "wR_0NqQp8S2f"
      },
      "source": [
        ""
      ],
      "execution_count": null,
      "outputs": []
    }
  ]
}