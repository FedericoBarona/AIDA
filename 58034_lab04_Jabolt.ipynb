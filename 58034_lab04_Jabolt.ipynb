{
  "nbformat": 4,
  "nbformat_minor": 0,
  "metadata": {
    "colab": {
      "name": "58090_lab04_Jabolt",
      "provenance": [],
      "include_colab_link": true
    },
    "kernelspec": {
      "name": "python3",
      "display_name": "Python 3"
    },
    "language_info": {
      "name": "python"
    }
  },
  "cells": [
    {
      "cell_type": "markdown",
      "metadata": {
        "id": "view-in-github",
        "colab_type": "text"
      },
      "source": [
        "<a href=\"https://colab.research.google.com/github/FedericoBarona/AIDA/blob/main/58034_lab04_Jabolt.ipynb\" target=\"_parent\"><img src=\"https://colab.research.google.com/assets/colab-badge.svg\" alt=\"Open In Colab\"/></a>"
      ]
    },
    {
      "cell_type": "markdown",
      "metadata": {
        "id": "Q3Ki7Eix6HfL"
      },
      "source": [
        "# Topic 4 Lab 2: Multiple Linear Regression\n",
        "$_{\\text{©D.J. Lopez | 2021 | Fundamentals of Machine Learning}}$"
      ]
    },
    {
      "cell_type": "markdown",
      "metadata": {
        "id": "0cApvlgu6RXq"
      },
      "source": [
        "Create a class named `MultipleLinearRegression()` wherein it can compute for the linear regression for multiple variables. The class will be required to have the following helper methods:\n",
        "> 1. `correlations(X, y)`\n",
        ">> input: 2 Rank 2 matrices\n",
        ">>\n",
        ">> output: A vector that contains the covariances of each feature to the target. \n",
        "> 3. `train(X, y)`\n",
        ">> input: 2 Rank 2 matrices\n",
        ">>\n",
        ">> output: the weights of the linear regressor. Use least squares method for this part. If the training fails due to the singularity of the matrix, raise a custom error pertaining to autocorrelation.\n",
        "> 4. `predict(x)`\n",
        ">> input: A testing vector. *Note*: this function should only accept vectors.\n",
        ">>\n",
        ">> output: the predicted value. Note: the procedure in solving for the predicted value should be vectorized. Use the concept of matrix multiplication. Do not forget to pad the matrix for the bias term.\n",
        "> 5. `evaluate()`\n",
        ">> input: *none*\n",
        ">>\n",
        ">> output: a `DataFrame` that displays the SST, SSR, SSE, MSE, RMSE, R-squared, and the Adjusted R-squared. Note: You should use the `predict()` method here.\n",
        "> 5. `visualize(testX, testY)`\n",
        ">> input: the dataset training sets and their ground truths.\n",
        ">>\n",
        ">> output: a visualization of the linear regressor over the testing dataset. It should be saved as a .jpg file into the running notebook with a dpi of 400."
      ]
    },
    {
      "cell_type": "code",
      "metadata": {
        "id": "0UUrD4zJ6EVj"
      },
      "source": [
        "import numpy as np\n",
        "import matplotlib.pyplot as plt\n",
        "import pandas as pd\n",
        "## No other packages or libraries can be added in this cell"
      ],
      "execution_count": null,
      "outputs": []
    },
    {
      "cell_type": "code",
      "metadata": {
        "id": "6WzxCuxQ-xqb"
      },
      "source": [
        "### YOUR CODE HERE\n",
        "class MultipleLinearRegression():\n",
        "  def correlations(self, X, y):\n",
        "    self.y = y.values\n",
        "    self.x1 = X.iloc[::,0].values\n",
        "    self.x2 = X.iloc[::,1].values\n",
        "    sub_x1 = self.x1 - self.x1.mean()\n",
        "    sub_x2 = self.x2 - self.x2.mean()\n",
        "    sub_y = self.y - self.y.mean()\n",
        "    cov1 = np.mean(sub_x1 * sub_y)\n",
        "    cov2 = np.mean(sub_x2 * sub_y)\n",
        "    self.std_x1 = np.std(self.x1)\n",
        "    std_x2 = np.std(self.x2)\n",
        "    self.std_y = np.std(self.y)\n",
        "    self.corr = cov1 / (self.std_x1 * self.std_y)\n",
        "    corr1 = cov2 / (std_x2 * self.std_y)\n",
        "    corrs = np.array([corr1, self.corr])\n",
        "    return print(\"R = \", corrs)\n",
        "\n",
        "  def train(self, X,y):\n",
        "    try:\n",
        "      self.w1 = self.corr*(self.std_y/self.std_x1)\n",
        "      self.w2 = self.y.mean() - self.w1*self.x1.mean()\n",
        "      self.w0 = self.y.mean() - self.w1*self.x2.mean()\n",
        "      self.model_ = print(\"w1:\", self.w1, \"\\nw2:\", self.w2, \"\\nw0:\", self.w0,)\n",
        "    except np.linalg.LinAlgError as err:\n",
        "      if 'Singular matrix' in str(err):\n",
        "        self.model_ = print(\"Singular Matrix error\")\n",
        "    except:\n",
        "      self.model_ = print(\"Error\")\n",
        "    return self.model_\n",
        "  \n",
        "  def predict(self, x):\n",
        "    self.result = self.w0 + np.dot(self.w1,x)\n",
        "    self.pred = np.array(list(map(sum, self.result)))\n",
        "    index = np.array(list(range(0, self.pred.size)))\n",
        "    return print('\\u0177 =',np.array(self.pred), \",\\ni = \",index)\n",
        "\n",
        "  def evaluate(self):\n",
        "    n = y.size \n",
        "    k = 1\n",
        "    self.predsize = np.array(self.pred).size\n",
        "\n",
        "    SST = np.sum(np.square(y-y.mean()))\n",
        "    SSR = np.sum(np.square(self.pred-y.mean()))\n",
        "    SSE = np.sum(np.square(self.pred-y[0:self.predsize]))\n",
        "    MSE = np.mean(np.square(self.pred - y[0:self.predsize]))\n",
        "    RMSE = np.sqrt(MSE)\n",
        "    rSquared = 1 - (SSE/SST)\n",
        "    adjrSquared = 1 - ((1 - rSquared)*(n - 1)/(n-k-1))\n",
        "\n",
        "    dictionary = {\n",
        "         'SST' : SST,\n",
        "         'SSR' : SSR,\n",
        "         'SSE' : SSE,\n",
        "         'MSE' : MSE,\n",
        "         'RMSE' : RMSE,\n",
        "         'R-squared' : rSquared,\n",
        "         'Adjusted R-squared' : adjrSquared\n",
        "         }\n",
        "    return dictionary\n",
        "\n",
        "  def visualize(self, X, y):\n",
        "    Xt = X.iloc[::,0].values\n",
        "    plt.figure(figsize=(5,5))\n",
        "    plt.grid()\n",
        "    plt.scatter(Xt, y)\n",
        "    plt.plot(Xt, self.pred, color='red')\n",
        "    plt.savefig(\"regression.jpg\", dpi = 400)\n",
        "    plt.show()\n",
        "  ### Program the required methods\n",
        "\n",
        "  ### You may add other helper functions in to make your code cleaner"
      ],
      "execution_count": null,
      "outputs": []
    },
    {
      "cell_type": "code",
      "metadata": {
        "id": "7RB4i8MI96Ys"
      },
      "source": [
        "### Testing Data\n",
        "### DO NOT DELETE NOR MODIFY THIS CELL\n",
        "### Data can be retrieved from the git repo\n",
        "X = pd.read_csv(\"/content/real_estate_price_size_year.csv\") \n",
        "y = X['price']\n",
        "X = X.drop('price', axis=1)\n",
        "X_train, X_test = X.iloc[0:95], X.iloc[95:]\n",
        "y_train, y_test = y.iloc[0:95], y.iloc[95:]"
      ],
      "execution_count": null,
      "outputs": []
    },
    {
      "cell_type": "code",
      "metadata": {
        "id": "zGY61WiZ-Ze5"
      },
      "source": [
        "## TEST #1 (Max pts: 5)\n",
        "## DO NOT DELETE NOR MODIFY THIS CELL\n",
        "regressor = MultipleLinearRegression()"
      ],
      "execution_count": null,
      "outputs": []
    },
    {
      "cell_type": "code",
      "metadata": {
        "id": "IKuHQIceA2D0",
        "colab": {
          "base_uri": "https://localhost:8080/"
        },
        "outputId": "9c65c9e3-f9f4-4785-ffa5-ebe8a24bcb7e"
      },
      "source": [
        "## TEST #2 (Max pts: 10)\n",
        "## DO NOT DELETE NOR MODIFY THIS CELL\n",
        "R = regressor.correlations(X,y)\n",
        "R"
      ],
      "execution_count": null,
      "outputs": [
        {
          "output_type": "stream",
          "name": "stdout",
          "text": [
            "R =  [0.09301408 0.86298273]\n"
          ]
        }
      ]
    },
    {
      "cell_type": "markdown",
      "metadata": {
        "id": "iKPsTkB3BQuj"
      },
      "source": [
        "Expected output value:\n",
        "$$R = \\begin{bmatrix}0.09 & 0.86\\end{bmatrix}$$"
      ]
    },
    {
      "cell_type": "code",
      "metadata": {
        "id": "FlWF-AQEBnwL",
        "colab": {
          "base_uri": "https://localhost:8080/"
        },
        "outputId": "3c477b91-3b99-4535-cd9e-8f008c077d2e"
      },
      "source": [
        "## TEST #3 (Max pts: 15)\n",
        "## DO NOT DELETE NOR MODIFY THIS CELL\n",
        "regressor.train(X_train,y_train)\n",
        "regressor.model_"
      ],
      "execution_count": null,
      "outputs": [
        {
          "output_type": "stream",
          "name": "stdout",
          "text": [
            "w1: 223.17874259460748 \n",
            "w2: 101912.60180122903 \n",
            "w0: -156880.06718590704\n"
          ]
        }
      ]
    },
    {
      "cell_type": "markdown",
      "metadata": {
        "id": "Jpl2Cz9SB6fz"
      },
      "source": [
        "Expected output value:\n",
        "$$\\omega = \\begin{bmatrix}\\omega_1 \\\\ \\omega_2 \\\\ \\omega_0\\end{bmatrix} = \\begin{bmatrix}232.56\\\\ 3010.09 \\\\ -5964175.03\\end{bmatrix}$$"
      ]
    },
    {
      "cell_type": "code",
      "metadata": {
        "id": "k9Q8e7JXC9U7",
        "colab": {
          "base_uri": "https://localhost:8080/"
        },
        "outputId": "c4ef79e1-b523-4231-f2df-ac8560d36de6"
      },
      "source": [
        "## TEST #4 (Max pts: 35)\n",
        "## DO NOT DELETE NOR MODIFY THIS CELL\n",
        "preds = regressor.predict(X_test)\n",
        "preds"
      ],
      "execution_count": null,
      "outputs": [
        {
          "output_type": "stream",
          "name": "stdout",
          "text": [
            "ŷ = [257309.63217927 366140.5142181  469764.6361922  280629.57899298\n",
            " 291342.15863752] ,\n",
            "i =  [0 1 2 3 4]\n"
          ]
        }
      ]
    },
    {
      "cell_type": "markdown",
      "metadata": {
        "id": "BdpaVDV3DBzr"
      },
      "source": [
        "Expected output value:\n",
        "$$\\hat{y}_i = \\begin{bmatrix} 210962.87 \\\\ 324367.17 \\\\ 424013.31 \\\\ 251928.01 \\\\ 238092.94 \\end{bmatrix}, i = \\{0,1,2,3,4\\}$$"
      ]
    },
    {
      "cell_type": "code",
      "metadata": {
        "id": "FUJuLe9pDArc",
        "colab": {
          "base_uri": "https://localhost:8080/"
        },
        "outputId": "7bffa269-e2d7-4604-a939-b54e40948a77"
      },
      "source": [
        "# TEST #5 (Max pts: 25)\n",
        "## DO NOT DELETE NOR MODIFY THIS CELL\n",
        "model_stats = regressor.evaluate()\n",
        "model_stats"
      ],
      "execution_count": null,
      "outputs": [
        {
          "output_type": "execute_result",
          "data": {
            "text/plain": [
              "{'Adjusted R-squared': 0.8325986289797467,\n",
              " 'MSE': 19479591369.379265,\n",
              " 'R-squared': 0.8342895519193452,\n",
              " 'RMSE': 139569.30668803677,\n",
              " 'SSE': 97397956846.89632,\n",
              " 'SSR': 38311850792.93591,\n",
              " 'SST': 587759902740.0532}"
            ]
          },
          "metadata": {},
          "execution_count": 9
        }
      ]
    },
    {
      "cell_type": "code",
      "metadata": {
        "id": "J7XW0jArDrQs",
        "colab": {
          "base_uri": "https://localhost:8080/",
          "height": 320
        },
        "outputId": "57de37d5-d20c-49f7-d8f8-39622e189a6d"
      },
      "source": [
        "## TEST #6 (Max pts: 15)\n",
        "## DO NOT DELETE NOR MODIFY THIS CELL\n",
        "regressor.visualize(X_test, y_test)"
      ],
      "execution_count": null,
      "outputs": [
        {
          "output_type": "display_data",
          "data": {
            "image/png": "[encoded data removed]",
            "text/plain": [
              "<Figure size 360x360 with 1 Axes>"
            ]
          },
          "metadata": {
            "needs_background": "light"
          }
        }
      ]
    }
  ]
}